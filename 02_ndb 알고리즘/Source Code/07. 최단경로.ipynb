{
 "cells": [
  {
   "cell_type": "markdown",
   "metadata": {},
   "source": [
    "### 문제1. 전보"
   ]
  },
  {
   "cell_type": "code",
   "execution_count": 3,
   "metadata": {},
   "outputs": [
    {
     "name": "stdout",
     "output_type": "stream",
     "text": [
      "3 2 1\n",
      "1 2 4\n",
      "1 3 2\n",
      "2 4\n"
     ]
    }
   ],
   "source": [
    "from heapq import heappush, heappop\n",
    "\n",
    "INF = int(1e9)\n",
    "\n",
    "def dijkstra(graph, start):\n",
    "    distance = [INF]*(N+1)\n",
    "    distance[start] = 0\n",
    "    queue = []\n",
    "    heappush(queue,[0,start])\n",
    "    while queue:\n",
    "        cost, pos = heappop(queue)\n",
    "        for p, c in graph[pos]:\n",
    "            c += cost\n",
    "            if distance[p] > c:\n",
    "                distance[p] = c\n",
    "                heappush(queue,[c,p])\n",
    "    return distance\n",
    "\n",
    "N, M, C = map(int,input().split())\n",
    "graph = [[] for _ in range(N+1)]\n",
    "for _ in range(M):\n",
    "    X, Y, Z = map(int,input().split())\n",
    "    graph[X].append((Y,Z))\n",
    "dist = dijkstra(graph,C)\n",
    "result, MAX = 0, 0\n",
    "for i in dist:\n",
    "    if i != INF and i!=0:\n",
    "        result +=1\n",
    "        MAX = max(MAX, i)\n",
    "print(result, MAX)"
   ]
  },
  {
   "cell_type": "markdown",
   "metadata": {},
   "source": [
    "### 문제2. 미래도시"
   ]
  },
  {
   "cell_type": "code",
   "execution_count": 5,
   "metadata": {},
   "outputs": [
    {
     "name": "stdout",
     "output_type": "stream",
     "text": [
      "5 7\n",
      "1 2\n",
      "1 3\n",
      "1 4\n",
      "2 4\n",
      "3 4\n",
      "3 5\n",
      "4 5\n",
      "4 5\n",
      "3\n"
     ]
    }
   ],
   "source": [
    "INF = int(1e9)\n",
    "\n",
    "N,M = map(int,input().split())\n",
    "graph = [[INF]*(N+1) for _ in range(N+1)]\n",
    "\n",
    "for i in range(N+1):\n",
    "    graph[i][i] = 0\n",
    "\n",
    "for _ in range(M):\n",
    "    A, B = map(int,input().split())\n",
    "    graph[A][B] = 1\n",
    "    graph[B][A] = 1\n",
    "\n",
    "X, K = map(int,input().split())  \n",
    "\n",
    "for k in range(1,N+1):\n",
    "    for a in range(1,N+1):\n",
    "        for b in range(1,N+1):\n",
    "            if a!=b:\n",
    "                graph[a][b] = min(graph[a][b], graph[a][k]+graph[k][b])\n",
    "distance = graph[1][K] + graph[K][X]\n",
    "if distance >= INF:\n",
    "    print(-1)\n",
    "else:\n",
    "    print(distance)\n"
   ]
  },
  {
   "cell_type": "code",
   "execution_count": null,
   "metadata": {},
   "outputs": [],
   "source": []
  }
 ],
 "metadata": {
  "kernelspec": {
   "display_name": "Python 3",
   "language": "python",
   "name": "python3"
  },
  "language_info": {
   "codemirror_mode": {
    "name": "ipython",
    "version": 3
   },
   "file_extension": ".py",
   "mimetype": "text/x-python",
   "name": "python",
   "nbconvert_exporter": "python",
   "pygments_lexer": "ipython3",
   "version": "3.7.3"
  }
 },
 "nbformat": 4,
 "nbformat_minor": 2
}
