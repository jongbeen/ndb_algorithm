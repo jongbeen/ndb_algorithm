{
 "cells": [
  {
   "cell_type": "markdown",
   "metadata": {},
   "source": [
    "### 문제1. 거스름돈"
   ]
  },
  {
   "cell_type": "code",
   "execution_count": 2,
   "metadata": {},
   "outputs": [
    {
     "name": "stdout",
     "output_type": "stream",
     "text": [
      "870\n",
      "7\n"
     ]
    }
   ],
   "source": [
    "unit = [500,100,50,10]\n",
    "\n",
    "money = int(input())\n",
    "coins = 0\n",
    "\n",
    "for i in unit:\n",
    "    if money > i:\n",
    "        coins += money//i\n",
    "    money %= i\n",
    "print(coins)"
   ]
  },
  {
   "cell_type": "markdown",
   "metadata": {},
   "source": [
    "### 문제 2. 1이 될 때까지"
   ]
  },
  {
   "cell_type": "code",
   "execution_count": 3,
   "metadata": {},
   "outputs": [
    {
     "name": "stdout",
     "output_type": "stream",
     "text": [
      "26 5\n",
      "3\n"
     ]
    }
   ],
   "source": [
    "N, K = map(int,input().split())\n",
    "count = 0\n",
    "\n",
    "while N != 1:\n",
    "    if N % K !=0:\n",
    "        N -= 1\n",
    "        count+=1\n",
    "    else:\n",
    "        N /= K\n",
    "        count+=1\n",
    "print(count)"
   ]
  },
  {
   "cell_type": "markdown",
   "metadata": {},
   "source": [
    "### 문제 3. 곱하기 혹은 더하기"
   ]
  },
  {
   "cell_type": "code",
   "execution_count": 6,
   "metadata": {},
   "outputs": [
    {
     "name": "stdout",
     "output_type": "stream",
     "text": [
      "567\n",
      "210\n"
     ]
    }
   ],
   "source": [
    "num = list(map(int,input()))\n",
    "sum = num[0]\n",
    "for i in range(1,len(num)):\n",
    "    if num[i-1] ==0:\n",
    "        sum +=num[i]\n",
    "    else:\n",
    "        sum *= num[i]\n",
    "print(sum)"
   ]
  },
  {
   "cell_type": "markdown",
   "metadata": {},
   "source": [
    "### 문제 4. 모험가 길드"
   ]
  },
  {
   "cell_type": "code",
   "execution_count": 7,
   "metadata": {},
   "outputs": [
    {
     "name": "stdout",
     "output_type": "stream",
     "text": [
      "5\n",
      "2 3 1 2 2\n",
      "2\n"
     ]
    }
   ],
   "source": [
    "N = int(input())\n",
    "array = list(map(int,input().split()))\n",
    "\n",
    "array.sort()\n",
    "guild, count = [], 0\n",
    "while array:\n",
    "    crew = array.pop(0)\n",
    "    guild.append(crew)\n",
    "    if crew == len(guild):\n",
    "        guild.clear()\n",
    "        count +=1\n",
    "print(count)"
   ]
  }
 ],
 "metadata": {
  "kernelspec": {
   "display_name": "Python 3",
   "language": "python",
   "name": "python3"
  },
  "language_info": {
   "codemirror_mode": {
    "name": "ipython",
    "version": 3
   },
   "file_extension": ".py",
   "mimetype": "text/x-python",
   "name": "python",
   "nbconvert_exporter": "python",
   "pygments_lexer": "ipython3",
   "version": "3.7.3"
  }
 },
 "nbformat": 4,
 "nbformat_minor": 2
}
