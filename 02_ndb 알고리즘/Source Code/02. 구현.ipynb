{
 "cells": [
  {
   "cell_type": "markdown",
   "metadata": {},
   "source": [
    "### 문제 1. 상하좌우"
   ]
  },
  {
   "cell_type": "code",
   "execution_count": 7,
   "metadata": {},
   "outputs": [
    {
     "name": "stdout",
     "output_type": "stream",
     "text": [
      "5\n",
      "R R R U D D\n",
      "3 4\n"
     ]
    }
   ],
   "source": [
    "N = int(input())\n",
    "\n",
    "directions = list(input().split())\n",
    "start = (1,1)\n",
    "for d in directions:\n",
    "    x,y = start\n",
    "    if d=='L':\n",
    "        if 1<=y-1<=N:\n",
    "            y -=1\n",
    "    elif d=='R':\n",
    "        if 1<=y+1<=N:\n",
    "            y+=1\n",
    "    elif d=='U':\n",
    "        if 1<=x-1<=N:\n",
    "            x-=1\n",
    "    else:\n",
    "        if 1<=x+1<=N:\n",
    "            x+=1\n",
    "    start = (x,y)\n",
    "print(start[0],start[1])"
   ]
  },
  {
   "cell_type": "markdown",
   "metadata": {},
   "source": [
    "### 문제 2. 시각"
   ]
  },
  {
   "cell_type": "code",
   "execution_count": 10,
   "metadata": {},
   "outputs": [
    {
     "name": "stdout",
     "output_type": "stream",
     "text": [
      "5\n",
      "11475\n"
     ]
    }
   ],
   "source": [
    "def NhNm():\n",
    "    count = 0\n",
    "    for i in range(60):\n",
    "        sec = str(i)\n",
    "        if '3' in sec:\n",
    "            count +=1\n",
    "    return count\n",
    "\n",
    "def Nh():\n",
    "    return 60\n",
    "\n",
    "\n",
    "N = int(input())\n",
    "count = 0\n",
    "for i in range(N+1):\n",
    "    hour = str(i)\n",
    "    if '3' in hour:\n",
    "        count+=3600\n",
    "    else:\n",
    "        for j in range(60):\n",
    "            minute = str(j)\n",
    "            if '3' in minute:\n",
    "                count += Nh()\n",
    "            else:\n",
    "                count += NhNm()\n",
    "print(count)"
   ]
  },
  {
   "cell_type": "markdown",
   "metadata": {},
   "source": [
    "### **BJ18312 - 시각"
   ]
  },
  {
   "cell_type": "code",
   "execution_count": 1,
   "metadata": {},
   "outputs": [
    {
     "name": "stdout",
     "output_type": "stream",
     "text": [
      "0 3\n",
      "1575\n"
     ]
    }
   ],
   "source": [
    "def NhNm(K):\n",
    "    count = 0\n",
    "    for i in range(60):\n",
    "        sec = str(i)\n",
    "        if K in sec:\n",
    "            count +=1\n",
    "    return count\n",
    "\n",
    "N, K = map(int,input().split())\n",
    "count, K = 0, str(K)\n",
    "for i in range(N+1):\n",
    "    hour = str(i)\n",
    "    if K in hour:\n",
    "        count+=3600\n",
    "    else:\n",
    "        for j in range(60):\n",
    "            minute = str(j)\n",
    "            if K in minute:\n",
    "                count += 60\n",
    "            else:\n",
    "                count += NhNm(K)\n",
    "print(count)"
   ]
  },
  {
   "cell_type": "markdown",
   "metadata": {},
   "source": [
    "### "
   ]
  },
  {
   "cell_type": "code",
   "execution_count": 14,
   "metadata": {},
   "outputs": [
    {
     "name": "stdout",
     "output_type": "stream",
     "text": [
      "5 0\n",
      "21600\n"
     ]
    }
   ],
   "source": [
    "HMS = '000000'\n",
    "H = HMS[:2]\n",
    "M = HMS[2:4]\n",
    "S = HMS[4:]\n",
    "\n",
    "N,K = map(int,input().split())\n",
    "K = str(K)\n",
    "count = 0\n",
    "for i in range(N+1):\n",
    "    h = i\n",
    "    if h<10:\n",
    "        hour = '0'+str(h)\n",
    "    else: hour = str(h)\n",
    "    HMS = hour+'0000'\n",
    "    for j in range(60):\n",
    "        m = j\n",
    "        if m<10:\n",
    "            minute = '0'+str(m)\n",
    "        else: minute = str(m)\n",
    "        HMS = HMS[0:2]+minute+'00'\n",
    "        for k in range(60):\n",
    "            s = k\n",
    "            if s < 10:\n",
    "                sec = '0'+str(s)\n",
    "            else: sec = str(s)\n",
    "            HMS = HMS[0:4]+sec\n",
    "            if K in HMS:\n",
    "                count+=1\n",
    "                \n",
    "print(count)"
   ]
  },
  {
   "cell_type": "markdown",
   "metadata": {},
   "source": [
    "### 문제 3. 왕실의 나이트"
   ]
  },
  {
   "cell_type": "code",
   "execution_count": 15,
   "metadata": {},
   "outputs": [
    {
     "name": "stdout",
     "output_type": "stream",
     "text": [
      "a1\n",
      "2\n"
     ]
    }
   ],
   "source": [
    "pos = input()\n",
    "x,y = ord(pos[0]) - ord('a'), int(pos[1])\n",
    "N = 8\n",
    "\n",
    "dx = [-2,-2,-1,-1,1,1,2,2]\n",
    "dy = [-1,1,-2,2,-2,2,-1,1]\n",
    "count = 0\n",
    "\n",
    "for nx,ny in zip(dx,dy):\n",
    "    nx,ny = x+nx, y+ny\n",
    "    \n",
    "    if 1<=nx<=N and 1<=ny<=N:\n",
    "        count+=1\n",
    "print(count)\n"
   ]
  },
  {
   "cell_type": "code",
   "execution_count": 24,
   "metadata": {},
   "outputs": [
    {
     "name": "stdout",
     "output_type": "stream",
     "text": [
      "A1B2K4\n"
     ]
    },
    {
     "data": {
      "text/plain": [
       "'ABK124'"
      ]
     },
     "execution_count": 24,
     "metadata": {},
     "output_type": "execute_result"
    }
   ],
   "source": [
    "word = list(input())\n",
    "w, n = [], []\n",
    "for i in word:\n",
    "    if 'a'<=i<='z' or 'A'<=i<='Z':\n",
    "        w.append(i)\n",
    "    else:\n",
    "        n.append(i)\n",
    "w.sort()\n",
    "n.sort()\n",
    "w.extend(n)\n",
    "''.join(w)"
   ]
  },
  {
   "cell_type": "code",
   "execution_count": null,
   "metadata": {},
   "outputs": [],
   "source": []
  }
 ],
 "metadata": {
  "kernelspec": {
   "display_name": "Python 3",
   "language": "python",
   "name": "python3"
  },
  "language_info": {
   "codemirror_mode": {
    "name": "ipython",
    "version": 3
   },
   "file_extension": ".py",
   "mimetype": "text/x-python",
   "name": "python",
   "nbconvert_exporter": "python",
   "pygments_lexer": "ipython3",
   "version": "3.7.3"
  }
 },
 "nbformat": 4,
 "nbformat_minor": 2
}
