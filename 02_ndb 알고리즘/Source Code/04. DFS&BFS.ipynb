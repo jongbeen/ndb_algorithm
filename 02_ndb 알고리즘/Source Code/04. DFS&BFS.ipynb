{
 "cells": [
  {
   "cell_type": "markdown",
   "metadata": {},
   "source": [
    "### 문제1. 음료수 얼려 먹기"
   ]
  },
  {
   "cell_type": "code",
   "execution_count": 4,
   "metadata": {},
   "outputs": [
    {
     "name": "stdout",
     "output_type": "stream",
     "text": [
      "4 5\n",
      "00110\n",
      "00011\n",
      "11111\n",
      "00000\n",
      "3\n"
     ]
    }
   ],
   "source": [
    "from collections import deque\n",
    "\n",
    "dx = [0,0,1,-1]\n",
    "dy = [1,-1,0,0]\n",
    "\n",
    "def BFS(i,j):\n",
    "    visited[i][j] = True\n",
    "    queue = deque([(i,j)])\n",
    "    while queue:\n",
    "        x,y = queue.popleft()\n",
    "        for nx, ny in zip(dx,dy):\n",
    "            nx, ny = x+nx, y+ny\n",
    "            if 0<=nx<N and 0<=ny<M:\n",
    "                if not visited[nx][ny] and not graph[nx][ny] == 1:\n",
    "                    queue.append((nx,ny))\n",
    "                    visited[nx][ny] = True\n",
    "\n",
    "N, M = map(int,input().split())\n",
    "graph = []\n",
    "for _ in range(N):\n",
    "    graph.append(list(map(int,input())))\n",
    "\n",
    "visited = [[False]*M for _ in range(N)]\n",
    "count = 0\n",
    "for i in range(N):\n",
    "    for j in range(M):\n",
    "        if graph[i][j] !=1 and not visited[i][j]:\n",
    "            BFS(i,j)\n",
    "            count+=1\n",
    "print(count)"
   ]
  },
  {
   "cell_type": "markdown",
   "metadata": {},
   "source": [
    "### 문제 2. 미로탈출"
   ]
  },
  {
   "cell_type": "code",
   "execution_count": 5,
   "metadata": {},
   "outputs": [
    {
     "name": "stdout",
     "output_type": "stream",
     "text": [
      "5 6\n",
      "101010\n",
      "111111\n",
      "000001\n",
      "111111\n",
      "111111\n",
      "9\n"
     ]
    }
   ],
   "source": [
    "from collections import deque\n",
    "\n",
    "dx = [0,0,1,-1]\n",
    "dy = [1,-1,0,0]\n",
    "\n",
    "def BFS(graph):\n",
    "    visited = [[False]*M for _ in range(N)]\n",
    "    visited[0][0] = True\n",
    "    queue = deque([(0,0,0)])\n",
    "    while queue:\n",
    "        x,y,cnt = queue.popleft()\n",
    "        if x==N-1 and y==M-1:\n",
    "            return cnt\n",
    "        for nx,ny in zip(dx,dy):\n",
    "            nx, ny = x+nx, y+ny\n",
    "            if 0<=nx<N and 0<=ny<M:\n",
    "                if not visited[nx][ny] and not graph[nx][ny]==0:\n",
    "                    queue.append((nx,ny,cnt+1))\n",
    "                    visited[nx][ny] = True\n",
    "        \n",
    "\n",
    "N,M = map(int,input().split())\n",
    "graph = []\n",
    "for _ in range(N):\n",
    "    graph.append(list(map(int,input())))\n",
    "answer = BFS(graph)\n",
    "print(answer)"
   ]
  },
  {
   "cell_type": "code",
   "execution_count": null,
   "metadata": {},
   "outputs": [],
   "source": []
  }
 ],
 "metadata": {
  "kernelspec": {
   "display_name": "Python 3",
   "language": "python",
   "name": "python3"
  },
  "language_info": {
   "codemirror_mode": {
    "name": "ipython",
    "version": 3
   },
   "file_extension": ".py",
   "mimetype": "text/x-python",
   "name": "python",
   "nbconvert_exporter": "python",
   "pygments_lexer": "ipython3",
   "version": "3.7.3"
  }
 },
 "nbformat": 4,
 "nbformat_minor": 2
}
