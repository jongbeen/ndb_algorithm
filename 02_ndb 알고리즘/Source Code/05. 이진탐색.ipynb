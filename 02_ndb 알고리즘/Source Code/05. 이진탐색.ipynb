{
 "cells": [
  {
   "cell_type": "markdown",
   "metadata": {},
   "source": [
    "### 문제1. 떡볶이 떡 만들기"
   ]
  },
  {
   "cell_type": "markdown",
   "metadata": {},
   "source": [
    "#### 1-1. 함수를 통한 풀이"
   ]
  },
  {
   "cell_type": "code",
   "execution_count": 1,
   "metadata": {},
   "outputs": [
    {
     "name": "stdout",
     "output_type": "stream",
     "text": [
      "4 6\n",
      "19 15 10 17\n",
      "15\n"
     ]
    }
   ],
   "source": [
    "def b_search(array,target,start,end):\n",
    "    if start > end:\n",
    "        return None\n",
    "    mid, hap = (start+end)//2, 0\n",
    "    for i in array:\n",
    "        if i>mid:\n",
    "            hap += i-mid\n",
    "    if hap == target:\n",
    "        return mid\n",
    "    # 합이 목표치 미달-> mid를 줄여야 함\n",
    "    if hap < target:\n",
    "        return b_search(array,target,start,mid-1)\n",
    "    # 합이 목표치 초과 -> mid를 크게해야 함\n",
    "    else:\n",
    "        return b_search(array,target,mid+1,end)\n",
    "\n",
    "N, M = map(int,input().split())\n",
    "array = list(map(int,input().split()))\n",
    "start,end = min(array), max(array)\n",
    "print(b_search(array, M, start, end))"
   ]
  },
  {
   "cell_type": "markdown",
   "metadata": {},
   "source": [
    "#### 1-2. while문을 이용한 풀이"
   ]
  },
  {
   "cell_type": "code",
   "execution_count": 3,
   "metadata": {},
   "outputs": [
    {
     "name": "stdout",
     "output_type": "stream",
     "text": [
      "4 6\n",
      "19 10 17 15\n",
      "15\n"
     ]
    }
   ],
   "source": [
    "N, M = map(int,input().split())\n",
    "array = list(map(int,input().split()))\n",
    "start,end, result = min(array), max(array), 0\n",
    "while (start<=end):\n",
    "    mid, hap = (start+end)//2, 0\n",
    "    for i in array:\n",
    "        if i>mid:\n",
    "            hap += i-mid\n",
    "    if hap < M:\n",
    "        end = mid -1\n",
    "    else:\n",
    "        result = mid\n",
    "        start = mid+1\n",
    "print(result)"
   ]
  },
  {
   "cell_type": "markdown",
   "metadata": {},
   "source": [
    "### 문제 2. 정렬된 배열에서 특정 수의 개수 구하기\n",
    "\n",
    "> O(logN)으로 풀어야함"
   ]
  },
  {
   "cell_type": "code",
   "execution_count": 5,
   "metadata": {},
   "outputs": [
    {
     "name": "stdout",
     "output_type": "stream",
     "text": [
      "7 2\n",
      "1 1 2 2 2 2 3\n",
      "4\n"
     ]
    }
   ],
   "source": [
    "from bisect import bisect_left, bisect_right\n",
    "\n",
    "def count_by_range(array,left_value,right_value):\n",
    "    right_index = bisect_right(array,right_value)\n",
    "    left_index = bisect_left(array,left_value)\n",
    "    return right_index - left_index\n",
    "\n",
    "N, X = map(int,input().split())\n",
    "array = list(map(int,input().split()))\n",
    "\n",
    "count = count_by_range(array,X,X)\n",
    "\n",
    "if count == 0:\n",
    "    print(-1)\n",
    "else:\n",
    "    print(count)"
   ]
  },
  {
   "cell_type": "code",
   "execution_count": null,
   "metadata": {},
   "outputs": [],
   "source": []
  }
 ],
 "metadata": {
  "kernelspec": {
   "display_name": "Python 3",
   "language": "python",
   "name": "python3"
  },
  "language_info": {
   "codemirror_mode": {
    "name": "ipython",
    "version": 3
   },
   "file_extension": ".py",
   "mimetype": "text/x-python",
   "name": "python",
   "nbconvert_exporter": "python",
   "pygments_lexer": "ipython3",
   "version": "3.7.3"
  }
 },
 "nbformat": 4,
 "nbformat_minor": 2
}
