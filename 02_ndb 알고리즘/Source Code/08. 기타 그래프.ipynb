{
 "cells": [
  {
   "cell_type": "markdown",
   "metadata": {},
   "source": [
    "### 1. 서로소 집합 (disjoint-set)"
   ]
  },
  {
   "cell_type": "code",
   "execution_count": 1,
   "metadata": {},
   "outputs": [
    {
     "name": "stdout",
     "output_type": "stream",
     "text": [
      "5 3\n",
      "1 2\n",
      "2 3\n",
      "3 4\n",
      "[0, 1, 1, 1, 3, 5]\n"
     ]
    }
   ],
   "source": [
    "def find(parent,x):\n",
    "    if parent[x] != x:\n",
    "        parent[x] = find(parent,parent[x])\n",
    "    return parent[x]\n",
    "\n",
    "def union(parent,a,b):\n",
    "    A = find(parent,a)\n",
    "    B = find(parent,b)\n",
    "    if A < B:\n",
    "        parent[b] = a\n",
    "    else:\n",
    "        parent[a] = b\n",
    "\n",
    "v, e = map(int,input().split())\n",
    "parent = [0] * (v+1)\n",
    "\n",
    "for i in range(1,v+1):\n",
    "    parent[i] = i\n",
    "    \n",
    "for _ in range(e):\n",
    "    a, b = map(int,input().split())\n",
    "    union(parent,a,b)\n",
    "    \n",
    "print(parent)"
   ]
  },
  {
   "cell_type": "markdown",
   "metadata": {},
   "source": [
    "### 2. 서로소 집합 사이클 판별"
   ]
  },
  {
   "cell_type": "code",
   "execution_count": 5,
   "metadata": {},
   "outputs": [
    {
     "name": "stdout",
     "output_type": "stream",
     "text": [
      "5 3\n",
      "1 2\n",
      "2 1\n",
      "사이클 발생\n"
     ]
    }
   ],
   "source": [
    "def find(parent,x):\n",
    "    if parent[x] != x:\n",
    "        parent[x] = find(parent,parent[x])\n",
    "    return parent[x]\n",
    "\n",
    "def union(parent,a,b):\n",
    "    A = find(parent,a)\n",
    "    B = find(parent,b)\n",
    "    if A < B:\n",
    "        parent[b] = a\n",
    "    else:\n",
    "        parent[a] = b\n",
    "\n",
    "v, e = map(int,input().split())\n",
    "parent = [0] * (v+1)\n",
    "\n",
    "for i in range(1,v+1):\n",
    "    parent[i] = i\n",
    "\n",
    "cycle = False\n",
    "for _ in range(e):\n",
    "    a, b = map(int,input().split())\n",
    "    if find(parent,a) == find(parent,b):\n",
    "        cycle = True\n",
    "        break\n",
    "    else:\n",
    "        union(parent,a,b)\n",
    "if cycle:\n",
    "    print('사이클 발생')\n",
    "else:\n",
    "    print(parent)"
   ]
  },
  {
   "cell_type": "markdown",
   "metadata": {},
   "source": [
    "### 3. 최소신장트리 (MST)"
   ]
  },
  {
   "cell_type": "code",
   "execution_count": 10,
   "metadata": {},
   "outputs": [
    {
     "name": "stdout",
     "output_type": "stream",
     "text": [
      "7 9\n",
      "1 2 29\n",
      "1 5 75\n",
      "2 3 35\n",
      "2 6 34\n",
      "3 4 7\n",
      "4 6 23\n",
      "4 7 13\n",
      "5 6 53\n",
      "6 7 25\n",
      "start:  3 end:  4  cost:  7\n",
      "start:  4 end:  7  cost:  13\n",
      "start:  4 end:  6  cost:  23\n",
      "start:  1 end:  2  cost:  29\n",
      "start:  2 end:  6  cost:  34\n",
      "start:  5 end:  6  cost:  53\n",
      "159\n"
     ]
    }
   ],
   "source": [
    "def find(parent,x):\n",
    "    if parent[x] != x:\n",
    "        parent[x] = find(parent,parent[x])\n",
    "    return parent[x]\n",
    "\n",
    "def union(parent,a,b):\n",
    "    A = find(parent,a)\n",
    "    B = find(parent,b)  \n",
    "    if A<B:\n",
    "        parent[B] = A\n",
    "    else:\n",
    "        parent[A] = B\n",
    "        \n",
    "v,e = map(int, input().split())\n",
    "parent = [0] *(v+1)\n",
    "edges,result = [],[]\n",
    "SUM = 0\n",
    "\n",
    "for i in range(1,v+1):\n",
    "    parent[i] = i\n",
    "    \n",
    "for _ in range(e):\n",
    "    a, b, cost = map(int,input().split())\n",
    "    edges.append((cost,a,b))\n",
    "edges.sort()\n",
    "\n",
    "for edge in edges:\n",
    "    cost, a, b = edge\n",
    "    if find(parent,a) != find(parent,b):\n",
    "        union(parent,a,b)\n",
    "        result.append((a,b,cost))\n",
    "        SUM += cost\n",
    "        \n",
    "for i,j,c in result:\n",
    "    print('start: ',i,'end: ',j,' cost: ',c)\n",
    "print(SUM)"
   ]
  },
  {
   "cell_type": "code",
   "execution_count": 11,
   "metadata": {},
   "outputs": [
    {
     "data": {
      "text/plain": [
       "[0, 1, 1, 1, 3, 1, 1, 3]"
      ]
     },
     "execution_count": 11,
     "metadata": {},
     "output_type": "execute_result"
    }
   ],
   "source": [
    "parent"
   ]
  },
  {
   "cell_type": "markdown",
   "metadata": {},
   "source": [
    "### 4. 위상정렬"
   ]
  },
  {
   "cell_type": "code",
   "execution_count": null,
   "metadata": {},
   "outputs": [],
   "source": [
    "from collections import deque\n",
    "\n",
    "v,e = map(int,input().split())\n",
    "indegree = [0] * (v+1)\n",
    "\n",
    "graph = [[] for _ in range(v+1)]\n",
    "\n",
    "for _ in range(e):\n",
    "    a,b = map(int,input().split())\n",
    "    graph[a].append(b)\n",
    "    indegree[b] += 1\n",
    "    \n",
    "def topoplogy_sort():\n",
    "    result = []\n",
    "    queue = deque()\n",
    "    for i in range(1,v+1):\n",
    "        if indegree[i] == 0:\n",
    "            queue.append(i)\n",
    "    while queue:\n",
    "        now = queue.popleft()\n",
    "        result.append(now)\n",
    "        for i in graph[now]:\n",
    "            indegree[i] -=1\n",
    "            if indegree[i] == 0:\n",
    "                queue.append(i)\n",
    "    for i in result:\n",
    "        print(i,end =' ')\n",
    "topology_sort()"
   ]
  },
  {
   "cell_type": "code",
   "execution_count": null,
   "metadata": {},
   "outputs": [],
   "source": []
  }
 ],
 "metadata": {
  "kernelspec": {
   "display_name": "Python 3",
   "language": "python",
   "name": "python3"
  },
  "language_info": {
   "codemirror_mode": {
    "name": "ipython",
    "version": 3
   },
   "file_extension": ".py",
   "mimetype": "text/x-python",
   "name": "python",
   "nbconvert_exporter": "python",
   "pygments_lexer": "ipython3",
   "version": "3.7.3"
  }
 },
 "nbformat": 4,
 "nbformat_minor": 2
}
