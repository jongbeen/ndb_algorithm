{
 "cells": [
  {
   "cell_type": "markdown",
   "metadata": {},
   "source": [
    "### 문제 1. 개미전사"
   ]
  },
  {
   "cell_type": "code",
   "execution_count": 6,
   "metadata": {},
   "outputs": [
    {
     "name": "stdout",
     "output_type": "stream",
     "text": [
      "4\n",
      "1 3 1 5\n",
      "8\n"
     ]
    }
   ],
   "source": [
    "N = int(input())\n",
    "table = list(map(int,input().split()))\n",
    "dp = [0]*(N+1)\n",
    "dp[1] = table[1]\n",
    "for i in range(2,N):\n",
    "    dp[i] = max(table[i]+dp[i-2],dp[i-1])\n",
    "print(dp[N-1])"
   ]
  },
  {
   "cell_type": "markdown",
   "metadata": {},
   "source": [
    "### 문제 2. 1로 만들기\n",
    "#### 1. BFS Solution"
   ]
  },
  {
   "cell_type": "code",
   "execution_count": 12,
   "metadata": {},
   "outputs": [
    {
     "name": "stdout",
     "output_type": "stream",
     "text": [
      "6\n",
      "2\n"
     ]
    }
   ],
   "source": [
    "from collections import deque\n",
    "\n",
    "def BFS(x):\n",
    "    visited = [False]*(x+1)\n",
    "    queue = deque([(x,0)])\n",
    "    visited[x] = True\n",
    "    while queue:\n",
    "        x,cnt = queue.popleft()\n",
    "        if x == 1:\n",
    "            return cnt\n",
    "        if x%3 == 0:\n",
    "            visited[x//3] = True\n",
    "            queue.append((x//3,cnt+1))\n",
    "        if x%2 == 0:\n",
    "            visited[x//2] = True\n",
    "            queue.append((x//2,cnt+1))\n",
    "        visited[x-1] = True\n",
    "        queue.append((x-1,cnt+1))\n",
    "\n",
    "X = int(input())\n",
    "ans = BFS(X)\n",
    "print(ans)\n"
   ]
  },
  {
   "cell_type": "markdown",
   "metadata": {},
   "source": [
    "#### 2. DP Solution"
   ]
  },
  {
   "cell_type": "code",
   "execution_count": 32,
   "metadata": {},
   "outputs": [
    {
     "name": "stdout",
     "output_type": "stream",
     "text": [
      "100000\n",
      "18\n"
     ]
    }
   ],
   "source": [
    "MAX = N = 10**6\n",
    "\n",
    "X = int(input())\n",
    "\n",
    "dp = [0]*(N+1)\n",
    "dp[0] = 0\n",
    "dp[1] = 0\n",
    "dp[2] = 1\n",
    "dp[3] = 1\n",
    "\n",
    "if X > 3:\n",
    "    for i in range(4,X+1):\n",
    "        first,second,third = MAX,MAX,MAX\n",
    "        if i%3 == 0:\n",
    "            first = dp[i//3]+1\n",
    "        if i%2 == 0:\n",
    "            second = dp[i//2]+1\n",
    "        third = dp[i-1]+1\n",
    "        dp[i] = min(first,second,third)\n",
    "print(dp[X])"
   ]
  },
  {
   "cell_type": "markdown",
   "metadata": {},
   "source": [
    "### 문제 3. 효율적인 화폐구성"
   ]
  },
  {
   "cell_type": "code",
   "execution_count": 36,
   "metadata": {},
   "outputs": [
    {
     "name": "stdout",
     "output_type": "stream",
     "text": [
      "3 4\n",
      "3\n",
      "5\n",
      "7\n",
      "-1\n"
     ]
    }
   ],
   "source": [
    "MAX = 10001\n",
    "N,M = map(int,input().split())\n",
    "array = []\n",
    "for _ in range(N):\n",
    "    array.append(int(input()))\n",
    "dp = [MAX] * (M+1)\n",
    "dp[0] = 1\n",
    "\n",
    "for i in array:\n",
    "    for j in range(i,M+1):\n",
    "        if dp[j-i] != MAX:\n",
    "            dp[j] = min(dp[j-i]+1,dp[j])\n",
    "if dp[M] == MAX:\n",
    "    print(-1)\n",
    "else:\n",
    "    print(array[M])"
   ]
  },
  {
   "cell_type": "markdown",
   "metadata": {},
   "source": [
    "### 문제 4. 금광"
   ]
  },
  {
   "cell_type": "code",
   "execution_count": 37,
   "metadata": {
    "scrolled": true
   },
   "outputs": [
    {
     "name": "stdout",
     "output_type": "stream",
     "text": [
      "1\n",
      "3 4\n",
      "1 3 3 2 2 1 4 1 0 6 4 7\n",
      "19\n"
     ]
    }
   ],
   "source": [
    "for _ in range(int(input())):\n",
    "    N,M = map(int,input().split())\n",
    "    array = list(map(int,input().split()))\n",
    "    dp, index = [], 0\n",
    "    for i in range(N):\n",
    "        dp.append(array[index:index+M])\n",
    "        index += M\n",
    "    for j in range(1,M):\n",
    "        for i in range(N):\n",
    "            if i==0: left_up=0\n",
    "            else: left_up = dp[i-1][j-1]\n",
    "            \n",
    "            if i==N-1: left_down=0\n",
    "            else: left_down = dp[i+1][j-1]\n",
    "                \n",
    "            left = dp[i][j-1]\n",
    "            dp[i][j] = dp[i][j] + max(left_up,left,left_down)\n",
    "    result = 0\n",
    "    for i in range(N):\n",
    "        result = max(result,dp[i][M-1])\n",
    "    print(result)"
   ]
  },
  {
   "cell_type": "code",
   "execution_count": 42,
   "metadata": {},
   "outputs": [
    {
     "name": "stdout",
     "output_type": "stream",
     "text": [
      "2\n",
      "3 4\n",
      "1 3 3 2 2 1 4 1 0 6 4 7\n",
      "19\n",
      "4 4\n",
      "1 3 1 5 2 2 4 1 5 0 2 3 0 6 1 2\n",
      "16\n"
     ]
    }
   ],
   "source": [
    "for _ in range(int(input())):\n",
    "    N,M = map(int,input().split())\n",
    "    array = list(map(int,input().split()))\n",
    "    dp, index = [], 0\n",
    "    for _ in range(N):\n",
    "        dp.append(array[index:index+M])\n",
    "        index+=M\n",
    "    for j in range(1,M):\n",
    "        for i in range(N):\n",
    "            if i==0: left_up=0\n",
    "            else: left_up = dp[i-1][j-1]\n",
    "                \n",
    "            if i==N-1: left_down=0\n",
    "            else: left_down = dp[i+1][j-1]\n",
    "            \n",
    "            left = dp[i][j-1]\n",
    "            dp[i][j] = dp[i][j]+max(left_up,left_down,left)\n",
    "    result = 0\n",
    "    for i in range(N):\n",
    "        result = max(dp[i][M-1],result)\n",
    "    print(result)"
   ]
  },
  {
   "cell_type": "markdown",
   "metadata": {},
   "source": [
    "#### 문제5. 병사 배치하기"
   ]
  },
  {
   "cell_type": "code",
   "execution_count": 43,
   "metadata": {},
   "outputs": [
    {
     "name": "stdout",
     "output_type": "stream",
     "text": [
      "7\n",
      "15 11 4 8 5 2 4\n",
      "2\n"
     ]
    }
   ],
   "source": [
    "N = int(input())\n",
    "array = list(map(int,input().split()))\n",
    "dp = [1] * N\n",
    "\n",
    "array.reverse()\n",
    "for i in range(1, N):\n",
    "    for j in range(0,i):\n",
    "        if array[j] < array[i]:\n",
    "            dp[i] = max(dp[i],dp[j]+1)\n",
    "print(N-max(dp))"
   ]
  },
  {
   "cell_type": "markdown",
   "metadata": {},
   "source": [
    "#### LIS (가장 긴 증가하는 수열)"
   ]
  },
  {
   "cell_type": "code",
   "execution_count": null,
   "metadata": {},
   "outputs": [],
   "source": [
    "N = int(input())\n",
    "array = list(map(int,input().split()))\n",
    "dp = [1] * N\n",
    "\n",
    "for i in range(1,N):\n",
    "    for j in range(0,i):\n",
    "        if array[j] < array[i]:\n",
    "            dp[i] = max(dp[i],dp[j]+1)\n",
    "print(max(dp))"
   ]
  }
 ],
 "metadata": {
  "kernelspec": {
   "display_name": "Python 3",
   "language": "python",
   "name": "python3"
  },
  "language_info": {
   "codemirror_mode": {
    "name": "ipython",
    "version": 3
   },
   "file_extension": ".py",
   "mimetype": "text/x-python",
   "name": "python",
   "nbconvert_exporter": "python",
   "pygments_lexer": "ipython3",
   "version": "3.7.3"
  }
 },
 "nbformat": 4,
 "nbformat_minor": 2
}
