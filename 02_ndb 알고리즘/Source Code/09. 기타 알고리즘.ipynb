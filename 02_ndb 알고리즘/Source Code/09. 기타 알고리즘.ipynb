{
 "cells": [
  {
   "cell_type": "markdown",
   "metadata": {},
   "source": [
    "### I. 소수판별\n",
    "#### 1-1. Brute - Force"
   ]
  },
  {
   "cell_type": "code",
   "execution_count": 2,
   "metadata": {},
   "outputs": [
    {
     "name": "stdout",
     "output_type": "stream",
     "text": [
      "False\n",
      "True\n"
     ]
    }
   ],
   "source": [
    "def is_prime_number(x):\n",
    "    if x<=3:\n",
    "        return True\n",
    "    for i in range(2,x):\n",
    "        if x % i ==0:\n",
    "            return False\n",
    "    return True\n",
    "\n",
    "print(is_prime_number(4))\n",
    "print(is_prime_number(7))"
   ]
  },
  {
   "cell_type": "markdown",
   "metadata": {},
   "source": [
    "#### 1-2 제곱근 활용한 성능향상"
   ]
  },
  {
   "cell_type": "code",
   "execution_count": 6,
   "metadata": {},
   "outputs": [
    {
     "name": "stdout",
     "output_type": "stream",
     "text": [
      "False\n",
      "True\n"
     ]
    }
   ],
   "source": [
    "import math\n",
    "\n",
    "def is_prime_number(x):\n",
    "    if x<=3:\n",
    "        return True\n",
    "    for i in range(2,int(math.sqrt(x))+1):\n",
    "        if x%i==0:\n",
    "            return False\n",
    "    return True\n",
    "\n",
    "print(is_prime_number(4))\n",
    "print(is_prime_number(7))"
   ]
  },
  {
   "cell_type": "markdown",
   "metadata": {},
   "source": [
    "#### 1-3 에라토스테네스의 체 알고리즘"
   ]
  },
  {
   "cell_type": "code",
   "execution_count": 9,
   "metadata": {},
   "outputs": [
    {
     "name": "stdout",
     "output_type": "stream",
     "text": [
      "2 3 5 7 11 13 17 19 23 "
     ]
    }
   ],
   "source": [
    "def is_prime_number(x):\n",
    "    arr = [True]*(x+1)\n",
    "    for i in range(2,int(math.sqrt(x))+1):\n",
    "        j = 2\n",
    "        while (i*j <= x):\n",
    "            arr[i*j] = False\n",
    "            j+=1\n",
    "    return arr\n",
    "N = 26\n",
    "ans = is_prime_number(N)\n",
    "for i in range(2,N):\n",
    "    if ans[i]:\n",
    "        print(i,end =' ')"
   ]
  },
  {
   "cell_type": "markdown",
   "metadata": {},
   "source": [
    "### II. 투포인터"
   ]
  },
  {
   "cell_type": "code",
   "execution_count": 11,
   "metadata": {},
   "outputs": [
    {
     "name": "stdout",
     "output_type": "stream",
     "text": [
      "3\n"
     ]
    }
   ],
   "source": [
    "N, M = 5, 5\n",
    "data = [1,2,3,2,5]\n",
    "\n",
    "start, end = 0, 0\n",
    "count = 0\n",
    "\n",
    "for start in range(N):\n",
    "    # 여기에 interval_sum = 0 으로 선언하면\n",
    "    # start-end까지 합산해야되서 O(N^2)이됨 \n",
    "    while interval_sum<M and end<N:\n",
    "        interval_sum += data[end]\n",
    "        end+=1\n",
    "    if interval_sum == M:\n",
    "        count +=1\n",
    "    # 그러나 data[start]를 빼줌으로서\n",
    "    # 현재까지의 합산정보를 유지한체 start만 증가\n",
    "    interval_sum -= data[start]\n",
    "print(count)"
   ]
  },
  {
   "cell_type": "markdown",
   "metadata": {},
   "source": [
    "### III. 구간 합"
   ]
  },
  {
   "cell_type": "code",
   "execution_count": 12,
   "metadata": {},
   "outputs": [
    {
     "name": "stdout",
     "output_type": "stream",
     "text": [
      "70\n"
     ]
    }
   ],
   "source": [
    "N = 5\n",
    "data = [10,20,30,40,50]\n",
    "\n",
    "sum_value = 0\n",
    "prefix_sum = [0]\n",
    "\n",
    "for i in data:\n",
    "    sum_value += i\n",
    "    prefix_sum.append(sum_value)\n",
    "\n",
    "left, right = 3, 4\n",
    "print(prefix_sum[right] - prefix_sum[left-1])"
   ]
  },
  {
   "cell_type": "code",
   "execution_count": null,
   "metadata": {},
   "outputs": [],
   "source": []
  }
 ],
 "metadata": {
  "kernelspec": {
   "display_name": "Python 3",
   "language": "python",
   "name": "python3"
  },
  "language_info": {
   "codemirror_mode": {
    "name": "ipython",
    "version": 3
   },
   "file_extension": ".py",
   "mimetype": "text/x-python",
   "name": "python",
   "nbconvert_exporter": "python",
   "pygments_lexer": "ipython3",
   "version": "3.7.3"
  }
 },
 "nbformat": 4,
 "nbformat_minor": 2
}
